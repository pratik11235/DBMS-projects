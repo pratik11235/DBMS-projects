{
 "cells": [
  {
   "cell_type": "markdown",
   "metadata": {},
   "source": [
    "## Import Pandas package"
   ]
  },
  {
   "cell_type": "code",
   "execution_count": 1,
   "metadata": {},
   "outputs": [],
   "source": [
    "import pandas as pd"
   ]
  },
  {
   "cell_type": "markdown",
   "metadata": {},
   "source": [
    "## Reading the title.basics.tsv file into df_basics dataframe"
   ]
  },
  {
   "cell_type": "code",
   "execution_count": 3,
   "metadata": {},
   "outputs": [],
   "source": [
    "import pandas as pd\n",
    "import sys\n",
    "import cx_Oracle as cora\n",
    "\n",
    "cora.init_oracle_client(lib_dir = \"C:/Users/patek/Downloads/Phase5-JDBC/instantclient_21_7\")"
   ]
  },
  {
   "cell_type": "code",
   "execution_count": 4,
   "metadata": {},
   "outputs": [],
   "source": [
    "conn = cora.connect('pxp7948/Hgd3df7hTdrd8s@az6F72ldbp1.az.uta.edu:1523/pcse1p.data.uta.edu')\n",
    "c = conn.cursor()"
   ]
  },
  {
   "cell_type": "code",
   "execution_count": null,
   "metadata": {},
   "outputs": [],
   "source": []
  },
  {
   "cell_type": "code",
   "execution_count": 5,
   "metadata": {},
   "outputs": [
    {
     "name": "stdout",
     "output_type": "stream",
     "text": [
      "      tconst titleType            primaryTitle           originalTitle  \\\n",
      "0  tt0000001     short              Carmencita              Carmencita   \n",
      "1  tt0000002     short  Le clown et ses chiens  Le clown et ses chiens   \n",
      "2  tt0000003     short          Pauvre Pierrot          Pauvre Pierrot   \n",
      "3  tt0000004     short             Un bon bock             Un bon bock   \n",
      "4  tt0000005     short        Blacksmith Scene        Blacksmith Scene   \n",
      "\n",
      "  isAdult startYear endYear runtimeMinutes                    genres  \n",
      "0       0      1894      \\N              1         Documentary,Short  \n",
      "1       0      1892      \\N              5           Animation,Short  \n",
      "2       0      1892      \\N              4  Animation,Comedy,Romance  \n",
      "3       0      1892      \\N             12           Animation,Short  \n",
      "4       0      1893      \\N              1              Comedy,Short  \n"
     ]
    }
   ],
   "source": [
    "df_basics = pd.read_table('title.basics.tsv', dtype={'tconst':'str', 'titleType':'str', 'primaryTitle':'str','originalTitle': 'str', 'isAdult':'str', 'startYear':'str', 'endYear':'str', 'runtimeMinutes':'str', 'genres':'str'})\n",
    "print(df_basics.head())"
   ]
  },
  {
   "cell_type": "code",
   "execution_count": 12,
   "metadata": {},
   "outputs": [],
   "source": [
    "for i in range(len(df_basics)):\n",
    "    sql = \"\"\"insert into fall22_30_dbms_basics \n",
    "    values (:tconst, :titleType, :primaryTitle, :originalTitle, :isAdult, :startYear, :endYear, :runtimeMinutes, :genres)\"\"\"\n",
    "    c.execute(sql, [df_basics.iloc[i][0], df_basics.iloc[i][1], df_basics.iloc[i][2], df_basics.iloc[i][3], df_basics.iloc[i][4],df_basics.iloc[i][5],df_basics.iloc[i][6],df_basics.iloc[i][7],df_basics.iloc[i][8]])\n",
    "    conn.commit()"
   ]
  },
  {
   "cell_type": "code",
   "execution_count": null,
   "metadata": {},
   "outputs": [],
   "source": []
  },
  {
   "cell_type": "markdown",
   "metadata": {},
   "source": [
    "## Reading the title.crew.tsv file into df_crew dataframe"
   ]
  },
  {
   "cell_type": "code",
   "execution_count": 6,
   "metadata": {},
   "outputs": [
    {
     "name": "stdout",
     "output_type": "stream",
     "text": [
      "      tconst            directors    writers\n",
      "0  tt0000001            nm0005690         \\N\n",
      "1  tt0000002            nm0721526         \\N\n",
      "2  tt0000003            nm0721526         \\N\n",
      "3  tt0000004            nm0721526         \\N\n",
      "4  tt0000005            nm0005690         \\N\n",
      "5  tt0000006            nm0005690         \\N\n",
      "6  tt0000007  nm0005690,nm0374658         \\N\n",
      "7  tt0000008            nm0005690         \\N\n",
      "8  tt0000009            nm0085156  nm0085156\n",
      "9  tt0000010            nm0525910         \\N\n"
     ]
    }
   ],
   "source": [
    "df_crew = pd.read_table('title.crew.tsv')\n",
    "print(df_crew.head(10))"
   ]
  },
  {
   "cell_type": "code",
   "execution_count": null,
   "metadata": {},
   "outputs": [],
   "source": [
    "for i in range(len(df_crew)):\n",
    "    sql = \"\"\"insert into fall22_30_dbms_crew \n",
    "    values (:tconst, :directors, :writers)\"\"\"\n",
    "    c.execute(sql, [df_crew.iloc[i][0], df_crew.iloc[i][1], df_crew.iloc[i][2]])\n",
    "    conn.commit()"
   ]
  },
  {
   "cell_type": "markdown",
   "metadata": {},
   "source": [
    "## Reading the imdb00-title-actors.csv file into df_actors dataframe"
   ]
  },
  {
   "cell_type": "code",
   "execution_count": 7,
   "metadata": {},
   "outputs": [
    {
     "name": "stdout",
     "output_type": "stream",
     "text": [
      "      tconst    actorId     actorName actorName2\n",
      "0  tt0528241  nm0000001  Fred Astaire        NaN\n",
      "1  tt0507722  nm0000001  Fred Astaire        NaN\n",
      "2  tt0565155  nm0000001  Fred Astaire        NaN\n",
      "3  tt0565107  nm0000001  Fred Astaire        NaN\n",
      "4  tt0565263  nm0000001  Fred Astaire        NaN\n"
     ]
    }
   ],
   "source": [
    "df_actors = pd.read_csv('imdb00-title-actors.csv', names=['tconst', 'actorId', 'actorName', 'actorName2'], header=None, dtype = {'tconst':'str', 'actorId':'str', 'actorName':'str', 'actorName2':'str'})\n",
    "print(df_actors.head())"
   ]
  },
  {
   "cell_type": "code",
   "execution_count": null,
   "metadata": {},
   "outputs": [],
   "source": [
    "for i in range(len(df_actors)):\n",
    "    sql = \"\"\"insert into fall22_30_dbms_actor \n",
    "    values (:tconst, :directors, :writers)\"\"\"\n",
    "    c.execute(sql, [df_actors.iloc[i][0], df_actors.iloc[i][1], df_actors.iloc[i][2]])\n",
    "    conn.commit()"
   ]
  },
  {
   "cell_type": "markdown",
   "metadata": {},
   "source": [
    "## Join the df_crew and df_actors dataframes"
   ]
  },
  {
   "cell_type": "markdown",
   "metadata": {},
   "source": [
    "Join both on basis of tconst field"
   ]
  },
  {
   "cell_type": "code",
   "execution_count": 16,
   "metadata": {},
   "outputs": [
    {
     "name": "stdout",
     "output_type": "stream",
     "text": [
      "      tconst            directors    writers    actorId          actorName  \\\n",
      "0  tt0000005            nm0005690         \\N  nm0443482     Charles Kayser   \n",
      "1  tt0000005            nm0005690         \\N  nm0653042           John Ott   \n",
      "2  tt0000007  nm0005690,nm0374658         \\N  nm0179163   James J. Corbett   \n",
      "3  tt0000007  nm0005690,nm0374658         \\N  nm0183947     Peter Courtney   \n",
      "4  tt0000008            nm0005690         \\N  nm0653028           Fred Ott   \n",
      "5  tt0000009            nm0085156  nm0085156  nm0063086    Blanche Bayliss   \n",
      "6  tt0000009            nm0085156  nm0085156  nm0183823  William Courtenay   \n",
      "7  tt0000009            nm0085156  nm0085156  nm1309758     Chauncey Depew   \n",
      "8  tt0000011            nm0804434         \\N  nm3692297            Grunato   \n",
      "9  tt0000014            nm0525910         \\N  nm0166380     Francois Clerc   \n",
      "\n",
      "  actorName2  \n",
      "0        NaN  \n",
      "1        NaN  \n",
      "2        NaN  \n",
      "3        NaN  \n",
      "4        NaN  \n",
      "5        NaN  \n",
      "6        NaN  \n",
      "7        NaN  \n",
      "8        NaN  \n",
      "9        NaN  \n"
     ]
    }
   ],
   "source": [
    "df_join = pd.merge(df_crew, df_actors, how='inner', on='tconst')\n",
    "print(df_join.head(10))"
   ]
  },
  {
   "cell_type": "markdown",
   "metadata": {},
   "source": [
    "Filter the rows that have actorId in directors list i.e. actorId = directors"
   ]
  },
  {
   "cell_type": "code",
   "execution_count": 17,
   "metadata": {},
   "outputs": [
    {
     "name": "stdout",
     "output_type": "stream",
     "text": [
      "       tconst  directors    writers    actorId       actorName actorName2\n",
      "21  tt0000063  nm0617588         \\N  nm0617588  Georges Melies        NaN\n",
      "22  tt0000064  nm0617588         \\N  nm0617588  Georges Melies        NaN\n",
      "23  tt0000065  nm0617588         \\N  nm0617588  Georges Melies        NaN\n",
      "24  tt0000066  nm0617588         \\N  nm0617588  Georges Melies        NaN\n",
      "27  tt0000075  nm0617588         \\N  nm0617588  Georges Melies        NaN\n",
      "30  tt0000091  nm0617588  nm0617588  nm0617588  Georges Melies        NaN\n",
      "41  tt0000131  nm0617588         \\N  nm0617588  Georges Melies        NaN\n",
      "43  tt0000132  nm0617588  nm0617588  nm0617588  Georges Melies        NaN\n",
      "46  tt0000138  nm0617588  nm0617588  nm0617588  Georges Melies        NaN\n",
      "49  tt0000152  nm0617588         \\N  nm0617588  Georges Melies        NaN\n"
     ]
    }
   ],
   "source": [
    "df_join = df_join[df_join.apply(lambda x: x.actorId in x.directors, axis=1)]\n",
    "print(df_join.head(10))"
   ]
  },
  {
   "cell_type": "markdown",
   "metadata": {},
   "source": [
    "## Join the above result with the df_basics dataframe on tconst"
   ]
  },
  {
   "cell_type": "code",
   "execution_count": 18,
   "metadata": {},
   "outputs": [
    {
     "name": "stdout",
     "output_type": "stream",
     "text": [
      "      tconst titleType                                       primaryTitle  \\\n",
      "0  tt0000063     short                                Dessinateur express   \n",
      "1  tt0000064     short                           Dessinateur: Chamberlain   \n",
      "2  tt0000065     short                        Dessinateur: Reine Victoria   \n",
      "3  tt0000066     short                           Dessinateur: Von Bismark   \n",
      "4  tt0000075     short  The Conjuring of a Woman at the House of Rober...   \n",
      "5  tt0000091     short                             The House of the Devil   \n",
      "6  tt0000131     short                                   A Terrible Night   \n",
      "7  tt0000132     short                                         Card Party   \n",
      "8  tt0000138     short                                  The Bewitched Inn   \n",
      "9  tt0000152     short                         The Hallucinated Alchemist   \n",
      "\n",
      "                                    originalTitle isAdult startYear endYear  \\\n",
      "0                             Dessinateur express       0      1896      \\N   \n",
      "1                        Dessinateur: Chamberlain       0      1896      \\N   \n",
      "2                     Dessinateur: Reine Victoria       0      1896      \\N   \n",
      "3                        Dessinateur: Von Bismark       0      1896      \\N   \n",
      "4  Escamotage d'une dame au théâtre Robert Houdin       0      1896      \\N   \n",
      "5                             Le manoir du diable       0      1896      \\N   \n",
      "6                               Une nuit terrible       0      1896      \\N   \n",
      "7                            Une partie de cartes       0      1896      \\N   \n",
      "8                            L'auberge ensorcelée       0      1897      \\N   \n",
      "9                 L'hallucination de l'alchimiste       0      1897      \\N   \n",
      "\n",
      "  runtimeMinutes                genres  directors    writers    actorId  \\\n",
      "0             \\N                 Short  nm0617588         \\N  nm0617588   \n",
      "1             \\N                 Short  nm0617588         \\N  nm0617588   \n",
      "2             \\N                 Short  nm0617588         \\N  nm0617588   \n",
      "3             \\N                 Short  nm0617588         \\N  nm0617588   \n",
      "4              1          Horror,Short  nm0617588         \\N  nm0617588   \n",
      "5              3          Horror,Short  nm0617588  nm0617588  nm0617588   \n",
      "6              1   Comedy,Horror,Short  nm0617588         \\N  nm0617588   \n",
      "7              1       Biography,Short  nm0617588  nm0617588  nm0617588   \n",
      "8              2   Comedy,Horror,Short  nm0617588  nm0617588  nm0617588   \n",
      "9              2  Fantasy,Horror,Short  nm0617588         \\N  nm0617588   \n",
      "\n",
      "        actorName actorName2  \n",
      "0  Georges Melies        NaN  \n",
      "1  Georges Melies        NaN  \n",
      "2  Georges Melies        NaN  \n",
      "3  Georges Melies        NaN  \n",
      "4  Georges Melies        NaN  \n",
      "5  Georges Melies        NaN  \n",
      "6  Georges Melies        NaN  \n",
      "7  Georges Melies        NaN  \n",
      "8  Georges Melies        NaN  \n",
      "9  Georges Melies        NaN  \n"
     ]
    }
   ],
   "source": [
    "df_final = pd.merge(df_basics, df_join, how='inner', on='tconst')\n",
    "print(df_final.head(10))"
   ]
  },
  {
   "cell_type": "markdown",
   "metadata": {},
   "source": [
    "Add further check conditions i.e. titleType = movie and startYear between 1963 and 1973. Also consider the rows that contain startYear = '\\N'."
   ]
  },
  {
   "cell_type": "code",
   "execution_count": 24,
   "metadata": {},
   "outputs": [
    {
     "name": "stdout",
     "output_type": "stream",
     "text": [
      "         tconst titleType                                       primaryTitle  \\\n",
      "3039  tt0056000     movie                                     Magic Fountain   \n",
      "3043  tt0056329     movie                                      Paloma herida   \n",
      "3047  tt0056499     movie                                   The Slime People   \n",
      "3059  tt0056819     movie                                    The Human Dutch   \n",
      "3060  tt0056918     movie                                       The Ceremony   \n",
      "3061  tt0057001     movie                                    La diosa impura   \n",
      "3062  tt0057109     movie                                            500,000   \n",
      "3063  tt0057159     movie                                    House of Dreams   \n",
      "3064  tt0057181     movie  The Incredibly Strange Creatures Who Stopped L...   \n",
      "3065  tt0057264     movie                                   Lujuria tropical   \n",
      "\n",
      "                                          originalTitle isAdult startYear  \\\n",
      "3039                                   La fuente mágica       0      1963   \n",
      "3043                                      Paloma herida       0      1963   \n",
      "3047                                   The Slime People       0      1963   \n",
      "3059                                            Alleman       0      1963   \n",
      "3060                                       The Ceremony       0      1963   \n",
      "3061                                    La diosa impura       0      1963   \n",
      "3062                                Gojuman-nin no isan       0      1963   \n",
      "3063                                    House of Dreams       0      1963   \n",
      "3064  The Incredibly Strange Creatures Who Stopped L...       0      1964   \n",
      "3065                                   Lujuria tropical       0      1963   \n",
      "\n",
      "     endYear runtimeMinutes                  genres  directors  \\\n",
      "3039      \\N             90          Comedy,Romance  nm0482881   \n",
      "3043      \\N             85                      \\N  nm0273477   \n",
      "3047      \\N             76           Horror,Sci-Fi  nm0404665   \n",
      "3059      \\N             90             Documentary  nm0351842   \n",
      "3060      \\N            105             Crime,Drama  nm0002131   \n",
      "3061      \\N            104                   Drama  nm0090109   \n",
      "3062      \\N             97  Action,Adventure,Drama  nm0001536   \n",
      "3063      \\N             71          Horror,Mystery  nm0077663   \n",
      "3064      \\N             82                  Horror  nm0245081   \n",
      "3065      \\N             95           Drama,Romance  nm0090109   \n",
      "\n",
      "                                                writers    actorId  \\\n",
      "3039  nm0102167,nm0485337,nm0920195,nm0487870,nm0844...  nm0482881   \n",
      "3043                                nm0273477,nm0750031  nm0273477   \n",
      "3047                                nm0731741,nm0730924  nm0404665   \n",
      "3059                      nm0138471,nm0351842,nm0465547  nm0351842   \n",
      "3060            nm0340190,nm0059553,nm0002131,nm0265995  nm0002131   \n",
      "3061                                nm0090109,nm0747739  nm0090109   \n",
      "3062                                          nm0452878  nm0001536   \n",
      "3063                                          nm0077663  nm0077663   \n",
      "3064                      nm0689377,nm0798102,nm0450693  nm0245081   \n",
      "3065                                          nm0090109  nm0090109   \n",
      "\n",
      "                actorName actorName2  \n",
      "3039       Fernando Lamas        NaN  \n",
      "3043     Emilio Fernandez        NaN  \n",
      "3047        Robert Hutton        NaN  \n",
      "3059        Bert Haanstra        NaN  \n",
      "3060      Laurence Harvey        NaN  \n",
      "3061           Armando Bo        NaN  \n",
      "3062       Toshiro Mifune        NaN  \n",
      "3063         Robert Berry        NaN  \n",
      "3064  Ray Dennis Steckler        NaN  \n",
      "3065           Armando Bo        NaN  \n"
     ]
    }
   ],
   "source": [
    "# titleType = movie and startYear between 1963 and 1973\n",
    "df_final1 = df_final[((df_final['titleType'] == 'movie') & (df_final['startYear'] >= '1963') & (df_final['startYear'] <= '1973')) | ((df_final['titleType'] == 'movie') & (df_final['startYear'] == r'\\N'))]\n",
    "print(df_final1.head(10))"
   ]
  },
  {
   "cell_type": "markdown",
   "metadata": {},
   "source": [
    "Export the required final join output to csv file."
   ]
  },
  {
   "cell_type": "code",
   "execution_count": 25,
   "metadata": {},
   "outputs": [],
   "source": [
    "df_final1.to_csv('out1.csv', index=False)"
   ]
  }
 ],
 "metadata": {
  "kernelspec": {
   "display_name": "Python 3.10.5 64-bit",
   "language": "python",
   "name": "python3"
  },
  "language_info": {
   "codemirror_mode": {
    "name": "ipython",
    "version": 3
   },
   "file_extension": ".py",
   "mimetype": "text/x-python",
   "name": "python",
   "nbconvert_exporter": "python",
   "pygments_lexer": "ipython3",
   "version": "3.10.5"
  },
  "orig_nbformat": 4,
  "vscode": {
   "interpreter": {
    "hash": "b53c4d1fa9ed434c18cd653b7762604c1a317ffa50fcd158f1a267b010a6a3a8"
   }
  }
 },
 "nbformat": 4,
 "nbformat_minor": 2
}
